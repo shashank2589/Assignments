{
 "cells": [
  {
   "cell_type": "markdown",
   "id": "dd92c675",
   "metadata": {},
   "source": [
    "### 1. Why are functions advantageous to have in your programs?"
   ]
  },
  {
   "cell_type": "markdown",
   "id": "ef835eab",
   "metadata": {},
   "source": [
    "Functions are advantageous to have in programs because they allow you to break down a program into smaller, reusable pieces of code. This makes it easier to read and understand the code, as well as make changes and debug errors. Functions also help to modularize code, which can make it easier to test and maintain. By using functions, you can avoid duplicating code and reduce the amount of code you need to write, which can save time and effort. Overall, functions make programs more organized, efficient, and easier to work with."
   ]
  },
  {
   "cell_type": "markdown",
   "id": "767b68be",
   "metadata": {},
   "source": [
    "__________________________"
   ]
  },
  {
   "cell_type": "markdown",
   "id": "1a85fde2",
   "metadata": {},
   "source": [
    "### 2. When does the code in a function run: when it's specified or when it's called?"
   ]
  },
  {
   "cell_type": "markdown",
   "id": "7241855d",
   "metadata": {},
   "source": [
    "The code in a function runs when the function is called, not when it is specified. Defining a function simply creates a function object and defines its behavior, but it does not actually execute the code inside the function.\n",
    "\n",
    "To execute the code inside the function, you must call the function by its name followed by parentheses, which can contain any arguments that the function expects."
   ]
  },
  {
   "cell_type": "markdown",
   "id": "37e866c6",
   "metadata": {},
   "source": [
    "_______________________"
   ]
  },
  {
   "cell_type": "markdown",
   "id": "a1d5ebb2",
   "metadata": {},
   "source": [
    "### 3. What statement creates a function?"
   ]
  },
  {
   "cell_type": "markdown",
   "id": "25704f57",
   "metadata": {},
   "source": [
    "The def statement is used to create a function in Python.\n",
    "\n",
    "Here's the basic syntax of a function definition in Python:\n",
    "\n",
    "def function_name(parameters):\n",
    "\n",
    "    # code block to be executed\n",
    "    \n",
    "    return value # optional return statement\n",
    "    \n",
    "def is the keyword that indicates that we are defining a function.  \n",
    "function_name is the name of the function.  \n",
    "parameters are the input parameters for the function, enclosed in parentheses. If the function doesn't require any input parameters, the parentheses are left empty.\n"
   ]
  },
  {
   "cell_type": "markdown",
   "id": "d3f27c3c",
   "metadata": {},
   "source": [
    "________________________________"
   ]
  },
  {
   "cell_type": "markdown",
   "id": "91081bde",
   "metadata": {},
   "source": [
    "### 4. What is the difference between a function and a function call?"
   ]
  },
  {
   "cell_type": "markdown",
   "id": "ac6c5c73",
   "metadata": {},
   "source": [
    "A function is a set of instructions that describe how to perform a particular task, while a function call is following the instructions to get the desired outcome."
   ]
  },
  {
   "cell_type": "markdown",
   "id": "3608c887",
   "metadata": {},
   "source": [
    "_________________"
   ]
  },
  {
   "cell_type": "markdown",
   "id": "45e20a49",
   "metadata": {},
   "source": [
    "### 5. How many global scopes are there in a Python program? How many local scopes?"
   ]
  },
  {
   "cell_type": "markdown",
   "id": "258323cc",
   "metadata": {},
   "source": [
    "There is only one global scope in a Python program, which is created when the program starts and lasts until the program ends.\n",
    "\n",
    "Local scopes are created whenever a function is called, and they exist only during the execution of that function. The number of local scopes depends on the number of functions called during program execution.\n",
    "\n",
    "For example:"
   ]
  },
  {
   "cell_type": "code",
   "execution_count": null,
   "id": "d47558b4",
   "metadata": {},
   "outputs": [],
   "source": [
    "# Global scope\n",
    "x = 10\n",
    "\n",
    "def my_func():\n",
    "    # Local scope\n",
    "    y = 20\n",
    "    print(x, y)\n",
    "\n",
    "my_func()  # Output: 10 20\n",
    "\n",
    "print(x)   # Output: 10\n",
    "print(y)   # NameError: name 'y' is not defined"
   ]
  },
  {
   "cell_type": "markdown",
   "id": "748ce9ce",
   "metadata": {},
   "source": [
    "________________________________________"
   ]
  },
  {
   "cell_type": "markdown",
   "id": "524c0b23",
   "metadata": {},
   "source": [
    "### 6. What happens to variables in a local scope when the function call returns?"
   ]
  },
  {
   "cell_type": "markdown",
   "id": "286d7229",
   "metadata": {},
   "source": [
    "Variables in a local scope are temporary and exist only for the duration of the function call. Once the function returns, the local variables are deleted and their values are no longer available."
   ]
  },
  {
   "cell_type": "markdown",
   "id": "aa801a1a",
   "metadata": {},
   "source": [
    "________________________________"
   ]
  },
  {
   "cell_type": "markdown",
   "id": "2ee557a7",
   "metadata": {},
   "source": [
    "### 7. What is the concept of a return value? Is it possible to have a return value in an expression?"
   ]
  },
  {
   "cell_type": "markdown",
   "id": "e93eb061",
   "metadata": {},
   "source": [
    "A return value is a value that a function returns after completing its execution. It is the output of a function that can be used in the program where the function was called. The 'return' statement is used to define the return value of a function.\n",
    "\n",
    "Yes, it is possible to have a return value in an expression. For example, you can use a function call as part of an expression, like this:\n",
    "\n",
    "result = 2 * max(3, 5)"
   ]
  },
  {
   "cell_type": "markdown",
   "id": "ef32ca66",
   "metadata": {},
   "source": [
    "_______________________________"
   ]
  },
  {
   "cell_type": "markdown",
   "id": "bc35629a",
   "metadata": {},
   "source": [
    "### 8. If a function does not have a return statement, what is the return value of a call to that function?"
   ]
  },
  {
   "cell_type": "markdown",
   "id": "826ce6ec",
   "metadata": {},
   "source": [
    "If a function does not have a return statement, the return value of a call to that function is None.\n",
    "\n",
    "for example:"
   ]
  },
  {
   "cell_type": "code",
   "execution_count": 7,
   "id": "f443bde3",
   "metadata": {},
   "outputs": [
    {
     "name": "stdout",
     "output_type": "stream",
     "text": [
      "Hello, World!\n",
      "None\n"
     ]
    }
   ],
   "source": [
    "def greet(name):\n",
    "    print(\"Hello, \" + name + \"!\")\n",
    "    \n",
    "result = greet(\"World\")\n",
    "print(result)"
   ]
  },
  {
   "cell_type": "markdown",
   "id": "732ec699",
   "metadata": {},
   "source": [
    "____________________________"
   ]
  },
  {
   "cell_type": "markdown",
   "id": "4ccf3b72",
   "metadata": {},
   "source": [
    "### 9. How do you make a function variable refer to the global variable?"
   ]
  },
  {
   "cell_type": "markdown",
   "id": "b46b4242",
   "metadata": {},
   "source": [
    "To make a function variable refer to the global variable, the global keyword is used inside the function. When a variable is declared with the global keyword inside a function, it creates or updates the global variable with the same name, instead of creating a new local variable within the function.\n",
    "\n",
    "for example:"
   ]
  },
  {
   "cell_type": "code",
   "execution_count": null,
   "id": "b61377f2",
   "metadata": {},
   "outputs": [],
   "source": [
    "x = 10  # global variable\n",
    "\n",
    "def my_func():\n",
    "    global x  # using the global keyword to refer to the global variable\n",
    "    x = 5  # updating the global variable\n",
    "\n",
    "my_func()\n",
    "\n",
    "print(x)  # output: 5"
   ]
  },
  {
   "cell_type": "markdown",
   "id": "b47ac5d3",
   "metadata": {},
   "source": [
    "_____________________________________"
   ]
  },
  {
   "cell_type": "markdown",
   "id": "e29a4270",
   "metadata": {},
   "source": [
    "### 10. What is the data type of None?"
   ]
  },
  {
   "cell_type": "markdown",
   "id": "42de738a",
   "metadata": {},
   "source": [
    "The data type of None is NoneType."
   ]
  },
  {
   "cell_type": "code",
   "execution_count": 10,
   "id": "34c3bf4d",
   "metadata": {},
   "outputs": [
    {
     "data": {
      "text/plain": [
       "NoneType"
      ]
     },
     "execution_count": 10,
     "metadata": {},
     "output_type": "execute_result"
    }
   ],
   "source": [
    "type(None)"
   ]
  },
  {
   "cell_type": "markdown",
   "id": "45387cfa",
   "metadata": {},
   "source": [
    "_______________________________________"
   ]
  },
  {
   "cell_type": "markdown",
   "id": "c9290052",
   "metadata": {},
   "source": [
    "### 11. What does the sentence import areallyourpetsnamederic do?"
   ]
  },
  {
   "cell_type": "markdown",
   "id": "c44c3564",
   "metadata": {},
   "source": [
    "The sentence import areallyourpetsnamederic attempts to import a Python module named areallyourpetsnamederic. If such a module exists, it would be loaded into the current Python session and its contents (such as functions, classes, and variables) would be available for use in the code. If no such module exists, attempting to import it will result in an error."
   ]
  },
  {
   "cell_type": "markdown",
   "id": "48ea3ec1",
   "metadata": {},
   "source": [
    "___________________________"
   ]
  },
  {
   "cell_type": "markdown",
   "id": "b3ff6420",
   "metadata": {},
   "source": [
    "### 12. If you had a bacon() feature in a spam module, what would you call it after importing spam?"
   ]
  },
  {
   "cell_type": "markdown",
   "id": "8601f4fb",
   "metadata": {},
   "source": [
    "If there is a bacon() function defined in a spam module, it can be called after importing spam using the following syntax:\n",
    "\n",
    "import spam\n",
    "\n",
    "spam.bacon() \n",
    "\n",
    "This will call the bacon() function defined in the spam module."
   ]
  },
  {
   "cell_type": "markdown",
   "id": "86fea48b",
   "metadata": {},
   "source": [
    "_____________________________"
   ]
  },
  {
   "cell_type": "markdown",
   "id": "4c07d5c4",
   "metadata": {},
   "source": [
    "### 13. What can you do to save a programme from crashing if it encounters an error?"
   ]
  },
  {
   "cell_type": "markdown",
   "id": "49b3dfe5",
   "metadata": {},
   "source": [
    "To save a program from crashing if it encounters an error, you can use exception handling. Exception handling is a way to catch and handle errors that may occur during program execution, so the program can continue running instead of crashing."
   ]
  },
  {
   "cell_type": "markdown",
   "id": "00e6c16d",
   "metadata": {},
   "source": [
    "_________________"
   ]
  },
  {
   "cell_type": "markdown",
   "id": "12d4a5c0",
   "metadata": {},
   "source": [
    "### 14. What is the purpose of the try clause? What is the purpose of the except clause?"
   ]
  },
  {
   "cell_type": "markdown",
   "id": "8bace846",
   "metadata": {},
   "source": [
    "The try clause is used to define a block of code in which an error might occur. The code in the try block is executed first. If an error occurs during the execution of the code in the try block, the execution is immediately stopped and the control is transferred to the except block.\n",
    "\n",
    "The except clause is used to handle the exception that occurred in the try block. It defines the block of code that should be executed when the exception occurs. This block of code is executed only when the error occurs in the try block.\n",
    "\n",
    "The purpose of using try-except blocks is to gracefully handle errors in the program and prevent the program from crashing due to an error. By using the try-except blocks, we can catch the errors and handle them without affecting the rest of the program."
   ]
  },
  {
   "cell_type": "markdown",
   "id": "60473843",
   "metadata": {},
   "source": [
    "_____________________________"
   ]
  }
 ],
 "metadata": {
  "kernelspec": {
   "display_name": "Python 3 (ipykernel)",
   "language": "python",
   "name": "python3"
  },
  "language_info": {
   "codemirror_mode": {
    "name": "ipython",
    "version": 3
   },
   "file_extension": ".py",
   "mimetype": "text/x-python",
   "name": "python",
   "nbconvert_exporter": "python",
   "pygments_lexer": "ipython3",
   "version": "3.9.12"
  }
 },
 "nbformat": 4,
 "nbformat_minor": 5
}
