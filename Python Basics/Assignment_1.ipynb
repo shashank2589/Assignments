{
 "cells": [
  {
   "cell_type": "markdown",
   "id": "a75f57b7",
   "metadata": {},
   "source": [
    "### 1. In the below elements which of them are values or an expression? eg:- values can be integer or string and expressions will be mathematical operators.\n",
    "##### * \n",
    "##### 'hello'\n",
    "##### -87.8\n",
    "##### - \n",
    "##### / \n",
    "##### +\n",
    "##### 6"
   ]
  },
  {
   "cell_type": "markdown",
   "id": "01d8e110",
   "metadata": {},
   "source": [
    "Values: 'hello', -87.8, 6\n",
    "\n",
    "Expressions: *, -, /, + (These are mathematical operators, but they need to be combined with values or variables to form expressions.)"
   ]
  },
  {
   "cell_type": "markdown",
   "id": "fcc9945a",
   "metadata": {},
   "source": [
    "_______________"
   ]
  },
  {
   "cell_type": "markdown",
   "id": "e29e17ee",
   "metadata": {},
   "source": [
    "### 2. What is the difference between string and variable in python?"
   ]
  },
  {
   "cell_type": "markdown",
   "id": "44787112",
   "metadata": {},
   "source": [
    "In Python, a string is a type of data that represents a sequence of characters enclosed within single, double, or triple quotes. For example, 'hello', \"world\", and \"\"\"Python\"\"\" are all strings. Strings can be used to represent text data, such as names, sentences, or paragraphs.\n",
    "\n",
    "A variable in Python is a name that represents a value or an object. Variables are used to store data, and the data can be of any data type, including strings. For example, x = 5 assigns the value 5 to the variable x, and y = \"hello\" assigns the string \"hello\" to the variable y.\n",
    "\n",
    "The main difference between a string and a variable is that a string is a data type, while a variable is a name that can represent any data type, including strings. A string is a specific type of data, whereas a variable is a placeholder for any data. Additionally, strings are immutable, meaning their values cannot be changed once they are created, while variables can be reassigned to different values."
   ]
  },
  {
   "cell_type": "markdown",
   "id": "0955e24b",
   "metadata": {},
   "source": [
    "_____________"
   ]
  },
  {
   "cell_type": "markdown",
   "id": "7dbb9f20",
   "metadata": {},
   "source": [
    "### 3. Describe three different data types."
   ]
  },
  {
   "cell_type": "markdown",
   "id": "9e80232c",
   "metadata": {},
   "source": [
    "In Python, there are several different data types. Here are three examples:\n",
    "\n",
    "Integer: An integer is a whole number, positive or negative, without any decimal points. For example, 2, -5, and 0 are all integers. Integers are a commonly used data type in Python for counting or indexing.\n",
    "\n",
    "Float: A float is a decimal number, which can be positive or negative. For example, 2.5, -3.14, and 0.0 are all floats. Floats are commonly used for calculations that involve decimal points, such as division or multiplication.\n",
    "\n",
    "String: A string is a sequence of characters enclosed within single, double, or triple quotes. For example, 'hello', \"world\", and \"\"\"Python\"\"\" are all strings. Strings are commonly used for representing text data, such as names, sentences, or paragraphs.\n",
    "\n",
    "These are just a few examples of the many different data types in Python. Other data types include boolean, list, tuple, set, dictionary, and more."
   ]
  },
  {
   "cell_type": "markdown",
   "id": "2ea5193d",
   "metadata": {},
   "source": [
    "_________________"
   ]
  },
  {
   "cell_type": "markdown",
   "id": "84539325",
   "metadata": {},
   "source": [
    "### 4. What is an expression made up of? What do all expressions do? With example"
   ]
  },
  {
   "cell_type": "markdown",
   "id": "f1b779fb",
   "metadata": {},
   "source": [
    "An expression can be made up of one or more operands and operators. An operand is a value or variable, while an operator is a symbol that represents a specific operation. For example, in the expression 2 + 3, the operands are 2 and 3, while the operator is +.\n",
    "\n",
    "All expressions evaluate to a single value. The value can be of any data type, depending on the expression. For example, the expression 2 + 3 evaluates to the integer value 5, while the expression \"hello\" + \"world\" evaluates to the string value \"helloworld\".\n",
    "\n",
    "Examples:\n",
    "\n",
    "2 * 4: This expression uses the operators * to perform arithmetic operations on the operands 2 and 4, and evaluates to the integer value 8\n",
    "\n",
    "\"hello\" + \"world\": This expression uses the + operator to concatenate the strings \"hello\" and \"world\", and evaluates to the string value \"helloworld\"."
   ]
  },
  {
   "cell_type": "markdown",
   "id": "ec96d060",
   "metadata": {},
   "source": [
    "___________________"
   ]
  },
  {
   "cell_type": "markdown",
   "id": "5ce371cf",
   "metadata": {},
   "source": [
    "### 5. This assignment statements, like spam = 10. What is the difference between an expression and a statement? With example"
   ]
  },
  {
   "cell_type": "markdown",
   "id": "f433feed",
   "metadata": {},
   "source": [
    "An expression is a piece of code that evaluates to a value, whereas a statement is a line of code that performs an action, such as assigning a value to a variable, printing something to the screen, or executing a loop. An expression can be part of a statement, but a statement cannot be part of an expression\n",
    "\n",
    "For Example:\n",
    "x = 5 + 3 * 2\n",
    "the code 5 + 3 * 2 is an expression that evaluates to the value 11. The value is then assigned to the variable x\n",
    "\n",
    "if x > 10:\n",
    "\n",
    "    print(\"x is greater than 10\")\n",
    "    \n",
    "the code if x > 10: is a statement that checks if the variable x is greater than 10. If the statement is true, the code print(\"x is greater than 10\") is executed.\n",
    "\n",
    "spam = 10\n",
    "the code spam = 10 is a statement that assigns the value 10 to the variable spam. This statement does not contain an expression.\n"
   ]
  },
  {
   "cell_type": "markdown",
   "id": "332b214a",
   "metadata": {},
   "source": [
    "____________"
   ]
  },
  {
   "cell_type": "markdown",
   "id": "b4b2baf8",
   "metadata": {},
   "source": [
    "### 6. After running the following code, what does the variable bacon contain?\n",
    "###### bacon = 22\n",
    "###### bacon + 1"
   ]
  },
  {
   "cell_type": "markdown",
   "id": "298d622e",
   "metadata": {},
   "source": [
    "After running the following code, the variable bacon contains the value 22.\n",
    "\n",
    "The expression bacon + 1 evaluates to the value 23, but since the result is not assigned to any variable, it is not stored for later use. Therefore, the value of the variable bacon remains unchanged at 22.\n",
    "\n",
    "If we want to update the value of bacon to the result of the expression bacon + 1, we need to reassign the value to the variable bacon like this:\n",
    "\n",
    "bacon = 22\n",
    "\n",
    "bacon = bacon + 1\n"
   ]
  },
  {
   "cell_type": "markdown",
   "id": "02dc591e",
   "metadata": {},
   "source": [
    "________________"
   ]
  },
  {
   "cell_type": "markdown",
   "id": "221bec6e",
   "metadata": {},
   "source": [
    "### 7. What should the values of the following two terms be?\n",
    "###### 'spam' + 'spamspam'\n",
    "###### 'spam' * 3\n"
   ]
  },
  {
   "cell_type": "markdown",
   "id": "4204d23a",
   "metadata": {},
   "source": [
    "The values of the following two terms should be the same, which is the string 'spamspamspam'.\n",
    "\n",
    "'spam' + 'spamspam': This expression uses the + operator to concatenate the string 'spam' and 'spamspam', resulting in the string 'spamspamspam'.\n",
    "\n",
    "'spam' * 3: This expression uses the * operator to repeat the string 'spam' three times, resulting in the string 'spamspamspam'."
   ]
  },
  {
   "cell_type": "markdown",
   "id": "84160fd2",
   "metadata": {},
   "source": [
    "__________"
   ]
  },
  {
   "cell_type": "markdown",
   "id": "bb65981e",
   "metadata": {},
   "source": [
    "### 8. Why is eggs a valid variable name while 100 is invalid?"
   ]
  },
  {
   "cell_type": "markdown",
   "id": "b80d21d6",
   "metadata": {},
   "source": [
    "In Python, variable names can consist of letters (a-z, A-Z), numbers (0-9), and underscore (_), but cannot start with a number.\n",
    "\n",
    "So, the variable name 'eggs' is valid because it starts with a letter, which are allowed in variable names.\n",
    "\n",
    "On the other hand, the value '100' is invalid as a variable name because it starts with a number, which is not allowed in variable names in Python.\n",
    "\n",
    "In summary, variable names in Python must follow the rules of the language, which include starting with a letter or underscore, and not starting with a number."
   ]
  },
  {
   "cell_type": "markdown",
   "id": "2d936158",
   "metadata": {},
   "source": [
    "______________"
   ]
  },
  {
   "cell_type": "markdown",
   "id": "31852380",
   "metadata": {},
   "source": [
    "### 9. What three functions can be used to get the integer, floating-point number, or string version of a value?"
   ]
  },
  {
   "cell_type": "markdown",
   "id": "c65e410d",
   "metadata": {},
   "source": [
    "We can use the following three built-in functions to convert a value to a different type:\n",
    "\n",
    "int(): This function can be used to convert a value to an integer. For example, int(5.2) would return the integer 5.\n",
    "\n",
    "float(): This function can be used to convert a value to a floating-point number. For example, float(5) would return the floating-point number 5.0.\n",
    "\n",
    "str(): This function can be used to convert a value to a string. For example, str(5.2) would return the string '5.2'."
   ]
  },
  {
   "cell_type": "markdown",
   "id": "d53529c2",
   "metadata": {},
   "source": [
    "__________"
   ]
  },
  {
   "cell_type": "markdown",
   "id": "25e4c262",
   "metadata": {},
   "source": [
    "### 10. Why does this expression cause an error? How can you fix it?\n",
    "###### 'I have eaten ' + 99 + ' burritos.'\n"
   ]
  },
  {
   "cell_type": "markdown",
   "id": "12781d71",
   "metadata": {},
   "source": [
    "The expression 'I have eaten ' + 99 + ' burritos.' will cause a TypeError because it is attempting to concatenate a string with an integer value without converting the integer to a string first.\n",
    "\n",
    "To fix the error, we can use the str() function to convert the integer to a string before concatenating it with the other strings\n",
    "\n",
    "'I have eaten ' + str(99) + ' burritos.'\n"
   ]
  },
  {
   "cell_type": "markdown",
   "id": "7be20024",
   "metadata": {},
   "source": [
    "_____________"
   ]
  }
 ],
 "metadata": {
  "kernelspec": {
   "display_name": "Python 3 (ipykernel)",
   "language": "python",
   "name": "python3"
  },
  "language_info": {
   "codemirror_mode": {
    "name": "ipython",
    "version": 3
   },
   "file_extension": ".py",
   "mimetype": "text/x-python",
   "name": "python",
   "nbconvert_exporter": "python",
   "pygments_lexer": "ipython3",
   "version": "3.9.12"
  }
 },
 "nbformat": 4,
 "nbformat_minor": 5
}
