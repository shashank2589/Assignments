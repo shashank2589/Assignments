{
 "cells": [
  {
   "cell_type": "markdown",
   "id": "53f17c60",
   "metadata": {},
   "source": [
    "### 1.What are the two values of the Boolean data type? How do you write them? With example"
   ]
  },
  {
   "cell_type": "markdown",
   "id": "49c35c23",
   "metadata": {},
   "source": [
    "The two values of the Boolean data type in Python are True and False.\n",
    "\n",
    "We can write them exactly as shown, with the first letter capitalized and the rest of the word in lowercase.\n",
    "\n",
    "For example :-\n",
    "a = True\n",
    "b = False\n",
    "\n",
    "type(a)\n",
    "'bool'\n",
    "\n",
    "type(b)\n",
    "'bool'\n"
   ]
  },
  {
   "cell_type": "markdown",
   "id": "8a6d67b5",
   "metadata": {},
   "source": [
    "________________"
   ]
  },
  {
   "cell_type": "markdown",
   "id": "1d2f8b33",
   "metadata": {},
   "source": [
    "### 2. What are the three different types of Boolean operators?"
   ]
  },
  {
   "cell_type": "markdown",
   "id": "74cccae7",
   "metadata": {},
   "source": [
    "The three different types of Boolean(Logical) operators are:\n",
    "\n",
    "and: This operator returns True if both operands are true, otherwise it returns False.\n",
    "\n",
    "or: This operator returns True if either of the operands is true, otherwise it returns False.\n",
    "\n",
    "not: This operator negates the boolean value of its operand. If the operand is True, it returns False, and if the operand is False, it returns True."
   ]
  },
  {
   "cell_type": "markdown",
   "id": "3452899c",
   "metadata": {},
   "source": [
    "_____________"
   ]
  },
  {
   "cell_type": "markdown",
   "id": "1ff3f41d",
   "metadata": {},
   "source": [
    "### 3. Make a list of each Boolean operator's truth tables (i.e. every possible combination of Boolean values for the operator and what it evaluate )."
   ]
  },
  {
   "cell_type": "markdown",
   "id": "9e79b03a",
   "metadata": {},
   "source": [
    "Here are the truth tables for the three Boolean operators:\n",
    "\n",
    "#### AND operator truth table\n",
    "\n",
    "Operand1    Operand2   Result\n",
    "\n",
    "  True        True      True\n",
    "\n",
    "  True        False     False\n",
    "\n",
    "  False       True      False\n",
    "\n",
    "  False       False     False\n",
    "\n",
    "\n",
    "#### OR operator truth table\n",
    "\n",
    "Operand 1 Operand 2 Result\n",
    "\n",
    "True True True\n",
    "\n",
    "True False True\n",
    "\n",
    "False True True\n",
    "\n",
    "False False False\n",
    "\n",
    "#### NOT operator truth table\n",
    "\n",
    "Operand Result\n",
    "\n",
    "True False\n",
    "\n",
    "False True"
   ]
  },
  {
   "cell_type": "markdown",
   "id": "12e70696",
   "metadata": {},
   "source": [
    "_______________"
   ]
  },
  {
   "cell_type": "markdown",
   "id": "4d711cee",
   "metadata": {},
   "source": [
    "#### 4. What are the values of the following expressions?\n",
    "(5 > 4) and (3 == 5), not (5 > 4), (5 > 4) or (3 == 5), not ((5 > 4) or (3 == 5)) ,(True and True) and (True == False),\n",
    "(not False) or (not True)"
   ]
  },
  {
   "cell_type": "markdown",
   "id": "3f055a9c",
   "metadata": {},
   "source": [
    "(5 > 4) and (3 == 5)  \n",
    "True and False : the resulting value is False\n",
    "\n",
    "not (5 > 4)  \n",
    "not True : the resulting value is False\n",
    "\n",
    "(5 > 4) or (3 == 5)  \n",
    "True or False : the resulting value is True\n",
    "\n",
    "not ((5 > 4) or (3 == 5))  \n",
    "not(True or False) : the resulting value is False\n",
    "\n",
    "(True and True) and (True == False)  \n",
    "True and False : the resulting value is False\n",
    "\n",
    "(not False) or (not True)   \n",
    "True or False : the resulting value is True"
   ]
  },
  {
   "cell_type": "markdown",
   "id": "83c1dc3d",
   "metadata": {},
   "source": [
    "__________________"
   ]
  },
  {
   "cell_type": "markdown",
   "id": "d6382f94",
   "metadata": {},
   "source": [
    "### 5. What are the six comparison operators?"
   ]
  },
  {
   "cell_type": "markdown",
   "id": "435e7060",
   "metadata": {},
   "source": [
    "The six comparison operators are:\n",
    "\n",
    "1. .> (greater than)\n",
    "\n",
    "2. < (less than)\n",
    "\n",
    "3. .>= (greater than or equal to)\n",
    "\n",
    "4. <= (less than or equal to)\n",
    "\n",
    "5. == (equal to)\n",
    "\n",
    "6. != (not equal to)"
   ]
  },
  {
   "cell_type": "markdown",
   "id": "96a1fa74",
   "metadata": {},
   "source": [
    "_____________________________"
   ]
  },
  {
   "cell_type": "markdown",
   "id": "e1eb3295",
   "metadata": {},
   "source": [
    "### 6. How do you tell the difference between the equal to and assignment operators?Describe a condition and when you would use one."
   ]
  },
  {
   "cell_type": "markdown",
   "id": "e7ec0743",
   "metadata": {},
   "source": [
    "In Python, the equal to operator is ==, and the assignment operator is =. The == operator is used to compare two values to see if they are equal or not, while the = operator is used to assign a value to a variable.\n",
    "\n",
    "For example, if we have a variable x and we want to check if it is equal to 5, we would use the == operator like this\n",
    "x == 5\n",
    "\n",
    "If we want to assign the value 5 to the variable x, we would use the = operator like this\n",
    "x = 5"
   ]
  },
  {
   "cell_type": "markdown",
   "id": "8800601e",
   "metadata": {},
   "source": [
    "_______________________"
   ]
  },
  {
   "cell_type": "markdown",
   "id": "6551c51e",
   "metadata": {},
   "source": [
    "### 7. Identify the three blocks in this code:\n",
    "spam = 0\n",
    "\n",
    "if spam == 10:\n",
    "\n",
    "print('eggs')\n",
    "\n",
    "if spam > 5:\n",
    "\n",
    "print('bacon')\n",
    "\n",
    "else:\n",
    "\n",
    "print('ham')\n",
    "\n",
    "print('spam')\n",
    "\n",
    "print('spam')"
   ]
  },
  {
   "cell_type": "markdown",
   "id": "c0f26546",
   "metadata": {},
   "source": [
    "### Block 1:\n",
    "\n",
    "spam = 0\n",
    "\n",
    "if spam == 10:\n",
    "\n",
    "    print('eggs')\n",
    "\n",
    "### Block 2:\n",
    "\n",
    "if spam > 5:\n",
    "\n",
    "    print('bacon')\n",
    "    \n",
    "else:\n",
    "\n",
    "    print('ham')\n",
    "\n",
    "### Block 3:\n",
    "\n",
    "print('spam')\n",
    "\n",
    "print('spam')"
   ]
  },
  {
   "cell_type": "markdown",
   "id": "22eabcd9",
   "metadata": {},
   "source": [
    "__________________________"
   ]
  },
  {
   "cell_type": "markdown",
   "id": "e2718a92",
   "metadata": {},
   "source": [
    "### 8. Write code that prints Hello if 1 is stored in spam, prints Howdy if 2 is stored in spam, and prints Greetings! if anything else is stored in spam."
   ]
  },
  {
   "cell_type": "code",
   "execution_count": 18,
   "id": "bf332a11",
   "metadata": {},
   "outputs": [
    {
     "name": "stdout",
     "output_type": "stream",
     "text": [
      "Enter a value of spam : 2\n",
      "Howdy\n"
     ]
    }
   ],
   "source": [
    "spam = int(input(\"Enter a value of spam : \"))\n",
    "\n",
    "if spam == 1:\n",
    "    print(\"Hello\")\n",
    "elif spam == 2:\n",
    "    print(\"Howdy\")\n",
    "else:\n",
    "    print(\"Greetings!\")"
   ]
  },
  {
   "cell_type": "markdown",
   "id": "bc673cee",
   "metadata": {},
   "source": [
    "_________________________"
   ]
  },
  {
   "cell_type": "markdown",
   "id": "085a71ab",
   "metadata": {},
   "source": [
    "### 9.If your programme is stuck in an endless loop, what keys you’ll press?"
   ]
  },
  {
   "cell_type": "markdown",
   "id": "494d833f",
   "metadata": {},
   "source": [
    "If a program is stuck in an endless loop, you can press the \"Ctrl\" +\"C\" keys on your keyboard to stop the execution of the program. This key combination sends an interrupt signal to the program, which causes it to stop running"
   ]
  },
  {
   "cell_type": "markdown",
   "id": "4ecc9536",
   "metadata": {},
   "source": [
    "_____________________"
   ]
  },
  {
   "cell_type": "markdown",
   "id": "22133dda",
   "metadata": {},
   "source": [
    "### 10. How can you tell the difference between break and continue?"
   ]
  },
  {
   "cell_type": "markdown",
   "id": "642d2782",
   "metadata": {},
   "source": [
    "break and continue are used inside loops to alter the flow of control.\n",
    "\n",
    "break statement is used to immediately terminate a loop when a certain condition is met, regardless of the number of iterations left to execute. Once a break statement is executed, the loop stops iterating and the program execution moves to the next statement after the loop. For example:"
   ]
  },
  {
   "cell_type": "code",
   "execution_count": 23,
   "id": "ce9f4753",
   "metadata": {},
   "outputs": [
    {
     "name": "stdout",
     "output_type": "stream",
     "text": [
      "0\n",
      "1\n",
      "2\n"
     ]
    }
   ],
   "source": [
    "for i in range(5):\n",
    "    if i == 3:\n",
    "        break\n",
    "    print(i)"
   ]
  },
  {
   "cell_type": "markdown",
   "id": "fe3c964b",
   "metadata": {},
   "source": [
    "On the other hand, continue statement is used to skip the current iteration of a loop and move on to the next iteration. Once a continue statement is executed, the current iteration of the loop is skipped, and the program execution moves to the next iteration of the loop. For example:"
   ]
  },
  {
   "cell_type": "code",
   "execution_count": 24,
   "id": "6c288f3b",
   "metadata": {},
   "outputs": [
    {
     "name": "stdout",
     "output_type": "stream",
     "text": [
      "0\n",
      "1\n",
      "2\n",
      "4\n"
     ]
    }
   ],
   "source": [
    "for i in range(5):\n",
    "    if i == 3:\n",
    "        continue\n",
    "    print(i)"
   ]
  },
  {
   "cell_type": "markdown",
   "id": "3d29eca6",
   "metadata": {},
   "source": [
    "_________________________"
   ]
  },
  {
   "cell_type": "markdown",
   "id": "9a075c3a",
   "metadata": {},
   "source": [
    "### 11. In a for loop, what is the difference between range(10), range(0, 10), and range(0, 10, 1)?"
   ]
  },
  {
   "cell_type": "markdown",
   "id": "11d65866",
   "metadata": {},
   "source": [
    "In a for loop, range() is a built-in function that generates a sequence of numbers. The range() function can take up to three arguments: start, stop, and step. Here's the difference between range(10), range(0, 10), and range(0, 10, 1):\n",
    "\n",
    "range(10) generates a sequence of numbers from 0 to 9. The start argument is assumed to be 0 by default, and the step argument is assumed to be 1 by default.\n",
    "\n",
    "range(0, 10) also generates a sequence of numbers from 0 to 9. However, in this case, the start argument is explicitly set to 0, and the step argument is assumed to be 1 by default.\n",
    "\n",
    "range(0, 10, 1) generates a sequence of numbers from 0 to 9, just like the previous examples. However, in this case, both the start and step arguments are explicitly specified. The start argument is 0, and the step argument is 1."
   ]
  },
  {
   "cell_type": "markdown",
   "id": "aff1688d",
   "metadata": {},
   "source": [
    "______________________"
   ]
  },
  {
   "cell_type": "markdown",
   "id": "d4ddfe06",
   "metadata": {},
   "source": [
    "### 12. Write a short program that prints the numbers 1 to 10 using a for loop. Then write an equivalent program that prints the numbers 1 to 10 using a while loop."
   ]
  },
  {
   "cell_type": "markdown",
   "id": "9a4f6840",
   "metadata": {},
   "source": [
    "Here's the program to print the numbers 1 to 10 using a for loop:"
   ]
  },
  {
   "cell_type": "code",
   "execution_count": null,
   "id": "7ee80a58",
   "metadata": {},
   "outputs": [],
   "source": [
    "for i in range(1,11):\n",
    "    print(i)"
   ]
  },
  {
   "cell_type": "markdown",
   "id": "d5afb103",
   "metadata": {},
   "source": [
    "And here's the equivalent program that prints the numbers 1 to 10 using a while loop:"
   ]
  },
  {
   "cell_type": "code",
   "execution_count": null,
   "id": "9ad1b956",
   "metadata": {},
   "outputs": [],
   "source": [
    "i = 1\n",
    "while i <= 10:\n",
    "    print(i)\n",
    "    i = i+1"
   ]
  },
  {
   "cell_type": "markdown",
   "id": "091feee0",
   "metadata": {},
   "source": [
    "____________________"
   ]
  },
  {
   "cell_type": "markdown",
   "id": "2316439f",
   "metadata": {},
   "source": [
    "### 13. If you had a function named bacon() inside a module named spam, how would you call it after importing spam?"
   ]
  },
  {
   "cell_type": "markdown",
   "id": "b260fa3f",
   "metadata": {},
   "source": [
    "You can call the bacon() function inside the spam module after importing it in one of the following two ways:"
   ]
  },
  {
   "cell_type": "code",
   "execution_count": null,
   "id": "73aa8370",
   "metadata": {},
   "outputs": [],
   "source": [
    "# Call the function using the module name\n",
    "\n",
    "import spam\n",
    "\n",
    "spam.bacon()"
   ]
  },
  {
   "cell_type": "code",
   "execution_count": null,
   "id": "3f16c9a2",
   "metadata": {},
   "outputs": [],
   "source": [
    "# Import the function directly into your code using the from keyword and then call the function by its name\n",
    "\n",
    "from spam import bacon\n",
    "\n",
    "bacon()"
   ]
  },
  {
   "cell_type": "markdown",
   "id": "103cd747",
   "metadata": {},
   "source": [
    "_____________"
   ]
  }
 ],
 "metadata": {
  "kernelspec": {
   "display_name": "Python 3 (ipykernel)",
   "language": "python",
   "name": "python3"
  },
  "language_info": {
   "codemirror_mode": {
    "name": "ipython",
    "version": 3
   },
   "file_extension": ".py",
   "mimetype": "text/x-python",
   "name": "python",
   "nbconvert_exporter": "python",
   "pygments_lexer": "ipython3",
   "version": "3.9.12"
  }
 },
 "nbformat": 4,
 "nbformat_minor": 5
}
